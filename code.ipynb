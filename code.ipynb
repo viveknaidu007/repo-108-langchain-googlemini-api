{
 "cells": [
  {
   "cell_type": "code",
   "execution_count": 2,
   "metadata": {},
   "outputs": [],
   "source": [
    "import pandas as pd\n",
    "from langchain import PromptTemplate\n",
    "from langchain.chains.question_answering import load_qa_chain\n",
    "from langchain.document_loaders import PyPDFLoader\n",
    "from langchain.text_splitter import RecursiveCharacterTextSplitter\n",
    "from langchain.vectorstores import Chroma\n"
   ]
  },
  {
   "cell_type": "code",
   "execution_count": 3,
   "metadata": {},
   "outputs": [],
   "source": [
    "from langchain_google_genai import ChatGoogleGenerativeAI\n"
   ]
  },
  {
   "cell_type": "code",
   "execution_count": 4,
   "metadata": {},
   "outputs": [
    {
     "data": {
      "text/plain": [
       "True"
      ]
     },
     "execution_count": 4,
     "metadata": {},
     "output_type": "execute_result"
    }
   ],
   "source": [
    "from dotenv import load_dotenv\n",
    "load_dotenv()"
   ]
  },
  {
   "cell_type": "code",
   "execution_count": 5,
   "metadata": {},
   "outputs": [],
   "source": [
    "import google.generativeai as genai"
   ]
  },
  {
   "cell_type": "code",
   "execution_count": 6,
   "metadata": {},
   "outputs": [],
   "source": [
    "import os\n",
    "genai.configure(api_key=os.environ.get(\"GOOGLE_API_KEY\"))"
   ]
  },
  {
   "cell_type": "code",
   "execution_count": 7,
   "metadata": {},
   "outputs": [],
   "source": [
    "model = ChatGoogleGenerativeAI(model=\"gemini-pro\",\n",
    "                             temperature=0.3)\n"
   ]
  },
  {
   "cell_type": "code",
   "execution_count": 8,
   "metadata": {},
   "outputs": [],
   "source": [
    "#using the langchain for accesin gthe gemmini api"
   ]
  },
  {
   "cell_type": "code",
   "execution_count": 9,
   "metadata": {},
   "outputs": [],
   "source": [
    "from langchain_google_genai import ChatGoogleGenerativeAI\n"
   ]
  },
  {
   "cell_type": "code",
   "execution_count": 10,
   "metadata": {},
   "outputs": [],
   "source": [
    "llm = ChatGoogleGenerativeAI(model=\"gemini-pro\")"
   ]
  },
  {
   "cell_type": "code",
   "execution_count": 11,
   "metadata": {},
   "outputs": [],
   "source": [
    "result = llm.invoke(\"What is Mixture of Experts?\")\n"
   ]
  },
  {
   "cell_type": "code",
   "execution_count": 12,
   "metadata": {},
   "outputs": [
    {
     "data": {
      "text/plain": [
       "AIMessage(content='**Mixture of Experts (MoE)** is a machine learning technique that combines multiple expert models to improve the overall performance of a model. It is an ensemble method that leverages the strengths of individual experts to make more accurate predictions.\\n\\n**How MoE Works:**\\n\\n1. **Multiple Experts:** MoE trains several independent expert models, each specializing in a different aspect of the problem.\\n2. **Gating Network:** A gating network is trained to determine the relevance of each expert for a given input. It assigns weights to the experts, indicating their importance in making a prediction.\\n3. **Weighted Combination:** The predictions from the individual experts are combined using the weights from the gating network. This weighted combination produces the final output of the MoE model.\\n\\n**Advantages of MoE:**\\n\\n* **Improved Accuracy:** By leveraging multiple experts, MoE can capture complex relationships and make more accurate predictions.\\n* **Interpretability:** The gating network provides insights into which experts are contributing to the final prediction, enhancing model interpretability.\\n* **Flexibility:** MoE allows for the easy addition of new experts as needed, making it adaptable to changing data and requirements.\\n\\n**Applications of MoE:**\\n\\nMoE has been successfully applied in various domains, including:\\n\\n* **Natural Language Processing:** Language modeling, machine translation\\n* **Computer Vision:** Image classification, object detection\\n* **Speech Recognition:** Feature extraction, acoustic modeling\\n* **Recommendation Systems:** Personalized recommendations\\n\\n**Key Considerations:**\\n\\n* **Training Complexity:** MoE models require more training data and compute resources than single-expert models.\\n* **Expert Specialization:** The choice of experts and their specialization is crucial for the success of the MoE model.\\n* **Gating Network Optimization:** The gating network must be carefully trained to ensure accurate expert selection.\\n\\nOverall, Mixture of Experts is a powerful ensemble technique that enhances the performance of machine learning models by combining the expertise of multiple models. It is particularly useful for complex problems where a single model may not be sufficient.', response_metadata={'prompt_feedback': {'block_reason': 0, 'safety_ratings': []}, 'finish_reason': 'STOP', 'safety_ratings': [{'category': 'HARM_CATEGORY_SEXUALLY_EXPLICIT', 'probability': 'NEGLIGIBLE', 'blocked': False}, {'category': 'HARM_CATEGORY_HATE_SPEECH', 'probability': 'NEGLIGIBLE', 'blocked': False}, {'category': 'HARM_CATEGORY_HARASSMENT', 'probability': 'NEGLIGIBLE', 'blocked': False}, {'category': 'HARM_CATEGORY_DANGEROUS_CONTENT', 'probability': 'NEGLIGIBLE', 'blocked': False}]}, id='run-d199dae2-1b4c-4247-9df5-d9bae960b71a-0')"
      ]
     },
     "execution_count": 12,
     "metadata": {},
     "output_type": "execute_result"
    }
   ],
   "source": [
    "result"
   ]
  },
  {
   "cell_type": "code",
   "execution_count": 13,
   "metadata": {},
   "outputs": [
    {
     "data": {
      "text/plain": [
       "'**Mixture of Experts (MoE)** is a machine learning technique that combines multiple expert models to improve the overall performance of a model. It is an ensemble method that leverages the strengths of individual experts to make more accurate predictions.\\n\\n**How MoE Works:**\\n\\n1. **Multiple Experts:** MoE trains several independent expert models, each specializing in a different aspect of the problem.\\n2. **Gating Network:** A gating network is trained to determine the relevance of each expert for a given input. It assigns weights to the experts, indicating their importance in making a prediction.\\n3. **Weighted Combination:** The predictions from the individual experts are combined using the weights from the gating network. This weighted combination produces the final output of the MoE model.\\n\\n**Advantages of MoE:**\\n\\n* **Improved Accuracy:** By leveraging multiple experts, MoE can capture complex relationships and make more accurate predictions.\\n* **Interpretability:** The gating network provides insights into which experts are contributing to the final prediction, enhancing model interpretability.\\n* **Flexibility:** MoE allows for the easy addition of new experts as needed, making it adaptable to changing data and requirements.\\n\\n**Applications of MoE:**\\n\\nMoE has been successfully applied in various domains, including:\\n\\n* **Natural Language Processing:** Language modeling, machine translation\\n* **Computer Vision:** Image classification, object detection\\n* **Speech Recognition:** Feature extraction, acoustic modeling\\n* **Recommendation Systems:** Personalized recommendations\\n\\n**Key Considerations:**\\n\\n* **Training Complexity:** MoE models require more training data and compute resources than single-expert models.\\n* **Expert Specialization:** The choice of experts and their specialization is crucial for the success of the MoE model.\\n* **Gating Network Optimization:** The gating network must be carefully trained to ensure accurate expert selection.\\n\\nOverall, Mixture of Experts is a powerful ensemble technique that enhances the performance of machine learning models by combining the expertise of multiple models. It is particularly useful for complex problems where a single model may not be sufficient.'"
      ]
     },
     "execution_count": 13,
     "metadata": {},
     "output_type": "execute_result"
    }
   ],
   "source": [
    "result.content"
   ]
  },
  {
   "cell_type": "code",
   "execution_count": 14,
   "metadata": {},
   "outputs": [],
   "source": [
    "#now chattting with documents"
   ]
  },
  {
   "cell_type": "code",
   "execution_count": 15,
   "metadata": {},
   "outputs": [],
   "source": [
    "# !pip install pypdf"
   ]
  },
  {
   "cell_type": "code",
   "execution_count": null,
   "metadata": {},
   "outputs": [],
   "source": [
    "#extract text from pdf"
   ]
  },
  {
   "cell_type": "code",
   "execution_count": 16,
   "metadata": {},
   "outputs": [],
   "source": [
    "pdf_path = \"Basics of Diabetes Management.pdf\""
   ]
  },
  {
   "cell_type": "code",
   "execution_count": 17,
   "metadata": {},
   "outputs": [],
   "source": [
    "pdf_loader = PyPDFLoader(pdf_path)\n",
    "pages = pdf_loader.load_and_split()\n",
    "#print(pages[3].page_content)\n"
   ]
  },
  {
   "cell_type": "code",
   "execution_count": 18,
   "metadata": {},
   "outputs": [
    {
     "data": {
      "text/plain": [
       "[Document(page_content=\"Understanding\\nDiabetes\\n●\\nDefinition\\nand\\nTypes\\n:\\nDiabetes\\nis\\na\\nchronic\\ncondition\\ncharacterized\\nby\\nhigh\\nlevels\\nof\\nglucose\\nin\\nthe\\nblood.\\nThere\\nare\\ntwo\\nmain\\ntypes:\\nType\\n1,\\nwhich\\nis\\ntypically\\ndiagnosed\\nin\\nchildren\\nand\\nyoung\\nadults\\nand\\ninvolves\\nthe\\nbody\\nnot\\nproducing\\ninsulin,\\nand\\nType\\n2,\\nwhich\\nis\\nmore\\ncommon\\nand\\ninvolves\\ninsulin\\nresistance\\nor\\ninsufficient\\ninsulin\\nproduction.\\n●\\nSymptoms\\n:\\nCommon\\nsymptoms\\ninclude\\nfrequent\\nurination,\\nincreased\\nthirst,\\nextreme\\nfatigue,\\nblurred\\nvision,\\nand\\nslow-healing\\ncuts\\nor\\nbruises.\\nTreatment\\nMethods\\n●\\nInsulin\\nTherapy\\n:\\nEssential\\nfor\\nindividuals\\nwith\\nType\\n1\\ndiabetes\\nand\\nsometimes\\nnecessary\\nfor\\nType\\n2\\ndiabetes.\\nInsulin\\nmust\\nbe\\ninjected\\nor\\nused\\nwith\\nan\\ninsulin\\npump.\\n●\\nOral\\nMedications\\n:\\nCommonly\\nprescribed\\nfor\\nType\\n2\\ndiabetes\\nto\\nhelp\\nmanage\\nblood\\nglucose\\nlevels.\\nExamples\\ninclude\\nMetformin,\\nwhich\\ncan\\nreduce\\nglucose\\nproduction\\nin\\nthe\\nliver.\\n●\\nLifestyle\\nChanges\\n:\\nIncludes\\nmanaging\\ndiet,\\nregular\\nphysical\\nactivity,\\nand\\nmaintaining\\na\\nhealthy\\nweight.\\nDietary\\nRecommendations\\n●\\nCarbohydrate\\nManagement\\n:\\nIt's\\ncrucial\\nfor\\ndiabetics\\nto\\nmonitor\\ncarbohydrate\\nintake\\nto\\nmanage\\nblood\\nsugar\\nlevels.\\nIncorporating\\ncomplex\\ncarbohydrates\\nlike\\nwhole\\ngrains,\\nfruits,\\nand\\nvegetables\\nis\\nrecommended.\\n●\\nMeal\\nPlanning\\n:\\nEating\\nregular\\nmeals,\\nbalancing\\nmacronutrients,\\nand\\nportion\\ncontrol\\nare\\nimportant\\nto\\nstabilize\\nblood\\nsugar\\nlevels.\\n●\\nAvoiding\\nSugary\\nFoods\\n:\\nLimiting\\nfoods\\nhigh\\nin\\nsugar\\nand\\nfat\\nto\\nprevent\\nspikes\\nin\\nblood\\nsugar\\nlevels.\", metadata={'source': 'Basics of Diabetes Management.pdf', 'page': 0})]"
      ]
     },
     "execution_count": 18,
     "metadata": {},
     "output_type": "execute_result"
    }
   ],
   "source": [
    "pages"
   ]
  },
  {
   "cell_type": "code",
   "execution_count": 19,
   "metadata": {},
   "outputs": [
    {
     "name": "stdout",
     "output_type": "stream",
     "text": [
      "Understanding\n",
      "Diabetes\n",
      "●\n",
      "Definition\n",
      "and\n",
      "Types\n",
      ":\n",
      "Diabetes\n",
      "is\n",
      "a\n",
      "chronic\n",
      "condition\n",
      "characterized\n",
      "by\n",
      "high\n",
      "levels\n",
      "of\n",
      "glucose\n",
      "in\n",
      "the\n",
      "blood.\n",
      "There\n",
      "are\n",
      "two\n",
      "main\n",
      "types:\n",
      "Type\n",
      "1,\n",
      "which\n",
      "is\n",
      "typically\n",
      "diagnosed\n",
      "in\n",
      "children\n",
      "and\n",
      "young\n",
      "adults\n",
      "and\n",
      "involves\n",
      "the\n",
      "body\n",
      "not\n",
      "producing\n",
      "insulin,\n",
      "and\n",
      "Type\n",
      "2,\n",
      "which\n",
      "is\n",
      "more\n",
      "common\n",
      "and\n",
      "involves\n",
      "insulin\n",
      "resistance\n",
      "or\n",
      "insufficient\n",
      "insulin\n",
      "production.\n",
      "●\n",
      "Symptoms\n",
      ":\n",
      "Common\n",
      "symptoms\n",
      "include\n",
      "frequent\n",
      "urination,\n",
      "increased\n",
      "thirst,\n",
      "extreme\n",
      "fatigue,\n",
      "blurred\n",
      "vision,\n",
      "and\n",
      "slow-healing\n",
      "cuts\n",
      "or\n",
      "bruises.\n",
      "Treatment\n",
      "Methods\n",
      "●\n",
      "Insulin\n",
      "Therapy\n",
      ":\n",
      "Essential\n",
      "for\n",
      "individuals\n",
      "with\n",
      "Type\n",
      "1\n",
      "diabetes\n",
      "and\n",
      "sometimes\n",
      "necessary\n",
      "for\n",
      "Type\n",
      "2\n",
      "diabetes.\n",
      "Insulin\n",
      "must\n",
      "be\n",
      "injected\n",
      "or\n",
      "used\n",
      "with\n",
      "an\n",
      "insulin\n",
      "pump.\n",
      "●\n",
      "Oral\n",
      "Medications\n",
      ":\n",
      "Commonly\n",
      "prescribed\n",
      "for\n",
      "Type\n",
      "2\n",
      "diabetes\n",
      "to\n",
      "help\n",
      "manage\n",
      "blood\n",
      "glucose\n",
      "levels.\n",
      "Examples\n",
      "include\n",
      "Metformin,\n",
      "which\n",
      "can\n",
      "reduce\n",
      "glucose\n",
      "production\n",
      "in\n",
      "the\n",
      "liver.\n",
      "●\n",
      "Lifestyle\n",
      "Changes\n",
      ":\n",
      "Includes\n",
      "managing\n",
      "diet,\n",
      "regular\n",
      "physical\n",
      "activity,\n",
      "and\n",
      "maintaining\n",
      "a\n",
      "healthy\n",
      "weight.\n",
      "Dietary\n",
      "Recommendations\n",
      "●\n",
      "Carbohydrate\n",
      "Management\n",
      ":\n",
      "It's\n",
      "crucial\n",
      "for\n",
      "diabetics\n",
      "to\n",
      "monitor\n",
      "carbohydrate\n",
      "intake\n",
      "to\n",
      "manage\n",
      "blood\n",
      "sugar\n",
      "levels.\n",
      "Incorporating\n",
      "complex\n",
      "carbohydrates\n",
      "like\n",
      "whole\n",
      "grains,\n",
      "fruits,\n",
      "and\n",
      "vegetables\n",
      "is\n",
      "recommended.\n",
      "●\n",
      "Meal\n",
      "Planning\n",
      ":\n",
      "Eating\n",
      "regular\n",
      "meals,\n",
      "balancing\n",
      "macronutrients,\n",
      "and\n",
      "portion\n",
      "control\n",
      "are\n",
      "important\n",
      "to\n",
      "stabilize\n",
      "blood\n",
      "sugar\n",
      "levels.\n",
      "●\n",
      "Avoiding\n",
      "Sugary\n",
      "Foods\n",
      ":\n",
      "Limiting\n",
      "foods\n",
      "high\n",
      "in\n",
      "sugar\n",
      "and\n",
      "fat\n",
      "to\n",
      "prevent\n",
      "spikes\n",
      "in\n",
      "blood\n",
      "sugar\n",
      "levels.\n"
     ]
    }
   ],
   "source": [
    "print(pages[0].page_content)\n"
   ]
  },
  {
   "cell_type": "code",
   "execution_count": 20,
   "metadata": {},
   "outputs": [
    {
     "name": "stdout",
     "output_type": "stream",
     "text": [
      "The total words in the context:  1452\n"
     ]
    }
   ],
   "source": [
    "context = \"\\n\".join(str(p.page_content) for p in pages[:30])\n",
    "print(\"The total words in the context: \", len(context))"
   ]
  },
  {
   "cell_type": "code",
   "execution_count": 21,
   "metadata": {},
   "outputs": [],
   "source": [
    "#prompt desing"
   ]
  },
  {
   "cell_type": "code",
   "execution_count": 26,
   "metadata": {},
   "outputs": [],
   "source": [
    "prompt_template = \"\"\"you are diabetes Instructor So , Answer the question as precise as possible using the provided context. If the answer is\n",
    "                    not contained in the context, say \"answer not available in context\" \\n\\n\n",
    "                    Context: \\n {context}?\\n\n",
    "                    Question: \\n {question} \\n\n",
    "                    Answer:\n",
    "                  \"\"\"\n",
    "\n",
    "prompt = PromptTemplate(\n",
    "    template=prompt_template, input_variables=[\"context\", \"question\"]\n",
    ")"
   ]
  },
  {
   "cell_type": "code",
   "execution_count": 27,
   "metadata": {},
   "outputs": [],
   "source": [
    "stuff_chain = load_qa_chain(model, chain_type=\"stuff\", prompt=prompt)\n"
   ]
  },
  {
   "cell_type": "code",
   "execution_count": 29,
   "metadata": {},
   "outputs": [
    {
     "name": "stdout",
     "output_type": "stream",
     "text": [
      "{'output_text': 'Answer not available in context'}\n"
     ]
    }
   ],
   "source": [
    "question = \"What is sugar levels?\"\n",
    "\n",
    "\n",
    "stuff_answer = stuff_chain(\n",
    "    {\"input_documents\": pages[0:1], \"question\": question}, return_only_outputs=True\n",
    ")\n",
    "\n",
    "print(stuff_answer)\n"
   ]
  },
  {
   "cell_type": "code",
   "execution_count": null,
   "metadata": {},
   "outputs": [
    {
     "name": "stdout",
     "output_type": "stream",
     "text": [
      "Insulin Therapy is essential for individuals with Type 1 diabetes and sometimes necessary for Type 2 diabetes. Insulin must be injected or used with an insulin pump.\n"
     ]
    }
   ],
   "source": [
    "question = \"What is insulin terapy?\"\n",
    "\n",
    "\n",
    "stuff_answer = stuff_chain(\n",
    "    {\"input_documents\": pages[0:1], \"question\": question}, return_only_outputs=True\n",
    ")\n",
    "\n",
    "print(stuff_answer['output_text'])\n"
   ]
  },
  {
   "cell_type": "code",
   "execution_count": null,
   "metadata": {},
   "outputs": [
    {
     "name": "stdout",
     "output_type": "stream",
     "text": [
      "Carbohydrate Management: It's crucial for diabetics to monitor carbohydrate intake to manage blood sugar levels. Incorporating complex carbohydrates like whole grains, fruits, and vegetables is recommended.\n",
      "\n",
      "Meal Planning: Eating regular meals, balancing macronutrients, and portion control are important to stabilize blood sugar levels.\n",
      "\n",
      "Avoiding Sugary Foods: Limiting foods high in sugar and fat to prevent spikes in blood sugar levels.\n"
     ]
    }
   ],
   "source": [
    "question = \"give Dietary Recommendations?\"\n",
    "\n",
    "\n",
    "stuff_answer = stuff_chain(\n",
    "    {\"input_documents\": pages[0:1], \"question\": question}, return_only_outputs=True\n",
    ")\n",
    "\n",
    "print(stuff_answer['output_text'])\n"
   ]
  },
  {
   "cell_type": "code",
   "execution_count": 31,
   "metadata": {},
   "outputs": [
    {
     "name": "stdout",
     "output_type": "stream",
     "text": [
      "Answer not available in context\n"
     ]
    }
   ],
   "source": [
    "question = \"who am i?\"\n",
    "\n",
    "\n",
    "stuff_answer = stuff_chain(\n",
    "    {\"input_documents\": pages[0:1], \"question\": question}, return_only_outputs=True\n",
    ")\n",
    "\n",
    "print(stuff_answer['output_text'])\n"
   ]
  },
  {
   "cell_type": "code",
   "execution_count": null,
   "metadata": {},
   "outputs": [],
   "source": [
    "#now RAGpipeline : Embedding + LLM \n",
    "# additoinal our wish"
   ]
  }
 ],
 "metadata": {
  "kernelspec": {
   "display_name": "dlproj",
   "language": "python",
   "name": "python3"
  },
  "language_info": {
   "codemirror_mode": {
    "name": "ipython",
    "version": 3
   },
   "file_extension": ".py",
   "mimetype": "text/x-python",
   "name": "python",
   "nbconvert_exporter": "python",
   "pygments_lexer": "ipython3",
   "version": "3.12.1"
  }
 },
 "nbformat": 4,
 "nbformat_minor": 2
}
